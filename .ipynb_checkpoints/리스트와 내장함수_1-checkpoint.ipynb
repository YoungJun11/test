{
 "cells": [
  {
   "cell_type": "code",
   "execution_count": null,
   "id": "0a173e13",
   "metadata": {},
   "outputs": [],
   "source": []
  },
  {
   "cell_type": "code",
   "execution_count": 1,
   "id": "0b6b5141",
   "metadata": {
    "ExecuteTime": {
     "end_time": "2022-06-20T05:50:47.888084Z",
     "start_time": "2022-06-20T05:50:47.883086Z"
    }
   },
   "outputs": [
    {
     "name": "stdout",
     "output_type": "stream",
     "text": [
      "[]\n",
      "[]\n"
     ]
    }
   ],
   "source": [
    "import random as r\n",
    "\n",
    "# list를 만드는 방법\n",
    "a=[]\n",
    "print(a)\n",
    "\n",
    "b=list()\n",
    "print(b)"
   ]
  },
  {
   "cell_type": "code",
   "execution_count": 3,
   "id": "9612a7ee",
   "metadata": {
    "ExecuteTime": {
     "end_time": "2022-06-20T05:51:18.599936Z",
     "start_time": "2022-06-20T05:51:18.582934Z"
    }
   },
   "outputs": [
    {
     "name": "stdout",
     "output_type": "stream",
     "text": [
      "[1, 2, 3, 4, 5]\n"
     ]
    }
   ],
   "source": [
    "a=[1,2,3,4,5]\n",
    "print(a)"
   ]
  },
  {
   "cell_type": "code",
   "execution_count": 4,
   "id": "96a3b623",
   "metadata": {
    "ExecuteTime": {
     "end_time": "2022-06-20T05:51:44.881363Z",
     "start_time": "2022-06-20T05:51:44.863375Z"
    }
   },
   "outputs": [
    {
     "name": "stdout",
     "output_type": "stream",
     "text": [
      "1\n"
     ]
    }
   ],
   "source": [
    "# 0번 제일 초기 index 출력\n",
    "\n",
    "print(a[0])"
   ]
  },
  {
   "cell_type": "code",
   "execution_count": 6,
   "id": "cc89e5b7",
   "metadata": {
    "ExecuteTime": {
     "end_time": "2022-06-20T05:52:42.575399Z",
     "start_time": "2022-06-20T05:52:42.567404Z"
    }
   },
   "outputs": [
    {
     "name": "stdout",
     "output_type": "stream",
     "text": [
      "[1, 2, 3, 4, 5, 6, 7, 8, 9, 10]\n"
     ]
    }
   ],
   "source": [
    "# range로 범위를 주어서 list출력 가능\n",
    "\n",
    "b=list(range(1,11))\n",
    "print(b)"
   ]
  },
  {
   "cell_type": "code",
   "execution_count": 7,
   "id": "f06ccb0d",
   "metadata": {
    "ExecuteTime": {
     "end_time": "2022-06-20T05:52:56.461939Z",
     "start_time": "2022-06-20T05:52:56.446934Z"
    }
   },
   "outputs": [
    {
     "name": "stdout",
     "output_type": "stream",
     "text": [
      "[1, 2, 3, 4, 5, 1, 2, 3, 4, 5, 6, 7, 8, 9, 10]\n"
     ]
    }
   ],
   "source": [
    "c=a+b\n",
    "print(c)"
   ]
  },
  {
   "cell_type": "code",
   "execution_count": 8,
   "id": "a64da156",
   "metadata": {
    "ExecuteTime": {
     "end_time": "2022-06-20T05:53:42.945981Z",
     "start_time": "2022-06-20T05:53:42.934991Z"
    }
   },
   "outputs": [
    {
     "name": "stdout",
     "output_type": "stream",
     "text": [
      "[1, 2, 3, 4, 5, 6]\n"
     ]
    }
   ],
   "source": [
    "# 뒤에 6을 추가\n",
    "\n",
    "a.append(6)\n",
    "print(a)"
   ]
  },
  {
   "cell_type": "code",
   "execution_count": 14,
   "id": "4bb07ca5",
   "metadata": {
    "ExecuteTime": {
     "end_time": "2022-06-20T05:55:07.621061Z",
     "start_time": "2022-06-20T05:55:07.615064Z"
    }
   },
   "outputs": [
    {
     "name": "stdout",
     "output_type": "stream",
     "text": [
      "[1, 2, 3, 7, 4, 5]\n"
     ]
    }
   ],
   "source": [
    "# 뒤에 6을 추가\n",
    "a1=list(range(1,6))\n",
    "\n",
    "a1.insert(3, 7)\n",
    "print(a1)"
   ]
  },
  {
   "cell_type": "code",
   "execution_count": 16,
   "id": "51437068",
   "metadata": {
    "ExecuteTime": {
     "end_time": "2022-06-20T05:56:03.738354Z",
     "start_time": "2022-06-20T05:56:03.729359Z"
    }
   },
   "outputs": [
    {
     "name": "stdout",
     "output_type": "stream",
     "text": [
      "[1, 2, 3, 7, 7, 7, 7, 4, 5]\n"
     ]
    }
   ],
   "source": [
    "# pop은 꺼내는 것을 의미\n",
    "\n",
    "a.pop()\n",
    "print(a)"
   ]
  },
  {
   "cell_type": "code",
   "execution_count": 17,
   "id": "9f9120e0",
   "metadata": {
    "ExecuteTime": {
     "end_time": "2022-06-20T05:56:20.482072Z",
     "start_time": "2022-06-20T05:56:20.464084Z"
    }
   },
   "outputs": [
    {
     "name": "stdout",
     "output_type": "stream",
     "text": [
      "[1, 2, 3, 7, 7, 7, 4, 5]\n"
     ]
    }
   ],
   "source": [
    "# pop은 꺼내는 것을 의미\n",
    "\n",
    "a.pop(3)\n",
    "print(a)"
   ]
  },
  {
   "cell_type": "code",
   "execution_count": 18,
   "id": "d352a64b",
   "metadata": {
    "ExecuteTime": {
     "end_time": "2022-06-20T05:57:13.144316Z",
     "start_time": "2022-06-20T05:57:13.127340Z"
    }
   },
   "outputs": [
    {
     "name": "stdout",
     "output_type": "stream",
     "text": [
      "[1, 2, 3, 7, 7, 4, 5]\n"
     ]
    }
   ],
   "source": [
    "a.remove(7)\n",
    "print(a)"
   ]
  },
  {
   "cell_type": "code",
   "execution_count": 19,
   "id": "276b9681",
   "metadata": {
    "ExecuteTime": {
     "end_time": "2022-06-20T05:57:54.829010Z",
     "start_time": "2022-06-20T05:57:54.824998Z"
    }
   },
   "outputs": [
    {
     "name": "stdout",
     "output_type": "stream",
     "text": [
      "5\n"
     ]
    }
   ],
   "source": [
    "print(a.index(4))"
   ]
  },
  {
   "cell_type": "code",
   "execution_count": 27,
   "id": "8010cac6",
   "metadata": {
    "ExecuteTime": {
     "end_time": "2022-06-20T06:00:15.432243Z",
     "start_time": "2022-06-20T06:00:15.416250Z"
    }
   },
   "outputs": [
    {
     "name": "stdout",
     "output_type": "stream",
     "text": [
      "[1, 2, 3, 4, 5, 6, 7, 8, 9, 10]\n",
      "55\n",
      "10\n",
      "1\n",
      "3\n"
     ]
    }
   ],
   "source": [
    "x=list(range(1,11))\n",
    "print(x)\n",
    "print(sum(x))\n",
    "print(max(x))\n",
    "print(min(x))\n",
    "print(min(7,5,3))"
   ]
  },
  {
   "cell_type": "code",
   "execution_count": 28,
   "id": "0ef76323",
   "metadata": {
    "ExecuteTime": {
     "end_time": "2022-06-20T06:02:02.175459Z",
     "start_time": "2022-06-20T06:02:02.160468Z"
    }
   },
   "outputs": [
    {
     "name": "stdout",
     "output_type": "stream",
     "text": [
      "[3, 5, 6, 1, 9, 10, 7, 8, 2, 4]\n"
     ]
    }
   ],
   "source": [
    "# random shuffle\n",
    "\n",
    "r.shuffle(x)\n",
    "print(x)"
   ]
  },
  {
   "cell_type": "code",
   "execution_count": 29,
   "id": "01a7265c",
   "metadata": {
    "ExecuteTime": {
     "end_time": "2022-06-20T06:02:33.873320Z",
     "start_time": "2022-06-20T06:02:33.865311Z"
    }
   },
   "outputs": [
    {
     "name": "stdout",
     "output_type": "stream",
     "text": [
      "[1, 2, 3, 4, 5, 6, 7, 8, 9, 10]\n"
     ]
    }
   ],
   "source": [
    "x.sort()\n",
    "print(x)"
   ]
  },
  {
   "cell_type": "code",
   "execution_count": 31,
   "id": "42b0e308",
   "metadata": {
    "ExecuteTime": {
     "end_time": "2022-06-20T06:02:51.632328Z",
     "start_time": "2022-06-20T06:02:51.626331Z"
    }
   },
   "outputs": [
    {
     "name": "stdout",
     "output_type": "stream",
     "text": [
      "[10, 9, 8, 7, 6, 5, 4, 3, 2, 1]\n"
     ]
    }
   ],
   "source": [
    "# Descending order \n",
    "# 내림차순\n",
    "\n",
    "x.sort(reverse=True)\n",
    "print(x)"
   ]
  },
  {
   "cell_type": "code",
   "execution_count": 33,
   "id": "bc89842b",
   "metadata": {
    "ExecuteTime": {
     "end_time": "2022-06-20T06:03:42.782269Z",
     "start_time": "2022-06-20T06:03:42.776275Z"
    }
   },
   "outputs": [
    {
     "name": "stdout",
     "output_type": "stream",
     "text": [
      "[]\n"
     ]
    }
   ],
   "source": [
    "# list 값 초기화\n",
    "\n",
    "x.clear()\n",
    "print(x)"
   ]
  },
  {
   "cell_type": "code",
   "execution_count": null,
   "id": "9c4892fc",
   "metadata": {},
   "outputs": [],
   "source": []
  }
 ],
 "metadata": {
  "kernelspec": {
   "display_name": "Python 3 (ipykernel)",
   "language": "python",
   "name": "python3"
  },
  "language_info": {
   "codemirror_mode": {
    "name": "ipython",
    "version": 3
   },
   "file_extension": ".py",
   "mimetype": "text/x-python",
   "name": "python",
   "nbconvert_exporter": "python",
   "pygments_lexer": "ipython3",
   "version": "3.8.12"
  },
  "latex_envs": {
   "LaTeX_envs_menu_present": true,
   "autoclose": false,
   "autocomplete": true,
   "bibliofile": "biblio.bib",
   "cite_by": "apalike",
   "current_citInitial": 1,
   "eqLabelWithNumbers": true,
   "eqNumInitial": 1,
   "hotkeys": {
    "equation": "Ctrl-E",
    "itemize": "Ctrl-I"
   },
   "labels_anchors": false,
   "latex_user_defs": false,
   "report_style_numbering": false,
   "user_envs_cfg": false
  },
  "varInspector": {
   "cols": {
    "lenName": 16,
    "lenType": 16,
    "lenVar": 40
   },
   "kernels_config": {
    "python": {
     "delete_cmd_postfix": "",
     "delete_cmd_prefix": "del ",
     "library": "var_list.py",
     "varRefreshCmd": "print(var_dic_list())"
    },
    "r": {
     "delete_cmd_postfix": ") ",
     "delete_cmd_prefix": "rm(",
     "library": "var_list.r",
     "varRefreshCmd": "cat(var_dic_list()) "
    }
   },
   "types_to_exclude": [
    "module",
    "function",
    "builtin_function_or_method",
    "instance",
    "_Feature"
   ],
   "window_display": false
  }
 },
 "nbformat": 4,
 "nbformat_minor": 5
}
