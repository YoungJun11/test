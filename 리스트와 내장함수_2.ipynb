{
 "cells": [
  {
   "cell_type": "code",
   "execution_count": null,
   "id": "a2d38f22",
   "metadata": {},
   "outputs": [],
   "source": []
  },
  {
   "cell_type": "code",
   "execution_count": 1,
   "id": "8ee6739a",
   "metadata": {
    "ExecuteTime": {
     "end_time": "2022-06-20T11:51:12.281174Z",
     "start_time": "2022-06-20T11:51:12.263171Z"
    }
   },
   "outputs": [
    {
     "name": "stdout",
     "output_type": "stream",
     "text": [
      "[23, 12, 36]\n",
      "[12, 36, 53]\n",
      "5\n"
     ]
    }
   ],
   "source": [
    "a=[23, 12, 36, 53, 19]\n",
    "print(a[:3])\n",
    "print(a[1:4])\n",
    "print(len(a))"
   ]
  },
  {
   "cell_type": "code",
   "execution_count": 2,
   "id": "7c30c26a",
   "metadata": {
    "ExecuteTime": {
     "end_time": "2022-06-20T11:51:57.293179Z",
     "start_time": "2022-06-20T11:51:57.284184Z"
    }
   },
   "outputs": [
    {
     "name": "stdout",
     "output_type": "stream",
     "text": [
      "23 12 36 53 19 "
     ]
    }
   ],
   "source": [
    "# for문을 통한 index 접근\n",
    "# list에 원소를 하나씩 접근\n",
    "\n",
    "for i in range(len(a)):\n",
    "    print(a[i], end=' ')"
   ]
  },
  {
   "cell_type": "code",
   "execution_count": 3,
   "id": "cb86bebd",
   "metadata": {
    "ExecuteTime": {
     "end_time": "2022-06-20T11:52:44.660057Z",
     "start_time": "2022-06-20T11:52:44.643054Z"
    }
   },
   "outputs": [
    {
     "name": "stdout",
     "output_type": "stream",
     "text": [
      "23 12 36 53 19 "
     ]
    }
   ],
   "source": [
    "# for문을 통한 index 접근 2\n",
    "\n",
    "for x in a:\n",
    "    print(x, end=' ')"
   ]
  },
  {
   "cell_type": "code",
   "execution_count": 5,
   "id": "fd7ce663",
   "metadata": {
    "ExecuteTime": {
     "end_time": "2022-06-20T11:53:52.471004Z",
     "start_time": "2022-06-20T11:53:52.453014Z"
    }
   },
   "outputs": [
    {
     "name": "stdout",
     "output_type": "stream",
     "text": [
      "23 53 19 \n"
     ]
    }
   ],
   "source": [
    "# for문을 통한 index 접근 (홀수만 출력 하시오)\n",
    "# 2로 나누어서 나머지 값이 1\n",
    "\n",
    "for x in a:\n",
    "    if x%2==1:\n",
    "        print(x, end=' ')\n",
    "print()    "
   ]
  },
  {
   "cell_type": "code",
   "execution_count": 6,
   "id": "e24eb3ab",
   "metadata": {
    "ExecuteTime": {
     "end_time": "2022-06-20T11:54:42.874348Z",
     "start_time": "2022-06-20T11:54:42.859356Z"
    }
   },
   "outputs": [
    {
     "name": "stdout",
     "output_type": "stream",
     "text": [
      "(0, 23)\n",
      "(1, 12)\n",
      "(2, 36)\n",
      "(3, 53)\n",
      "(4, 19)\n"
     ]
    }
   ],
   "source": [
    "for x in enumerate(a):\n",
    "    print(x)"
   ]
  },
  {
   "cell_type": "code",
   "execution_count": 7,
   "id": "0d5b72bd",
   "metadata": {
    "ExecuteTime": {
     "end_time": "2022-06-20T11:54:59.517913Z",
     "start_time": "2022-06-20T11:54:59.499924Z"
    }
   },
   "outputs": [
    {
     "name": "stdout",
     "output_type": "stream",
     "text": [
      "(0, 23) (1, 12) (2, 36) (3, 53) (4, 19) "
     ]
    }
   ],
   "source": [
    "for x in enumerate(a):\n",
    "    print(x, end=' ')"
   ]
  },
  {
   "cell_type": "code",
   "execution_count": 12,
   "id": "cf19d703",
   "metadata": {
    "ExecuteTime": {
     "end_time": "2022-06-20T12:00:18.997163Z",
     "start_time": "2022-06-20T12:00:18.980163Z"
    }
   },
   "outputs": [
    {
     "name": "stdout",
     "output_type": "stream",
     "text": [
      "(1, 2, 3, 4, 5)\n"
     ]
    }
   ],
   "source": [
    "# tuple 형태로 1 ~ 5까지 출력\n",
    "b=tuple(range(1,6))\n",
    "print(b)"
   ]
  },
  {
   "cell_type": "code",
   "execution_count": 13,
   "id": "322b9114",
   "metadata": {
    "ExecuteTime": {
     "end_time": "2022-06-20T12:00:47.496235Z",
     "start_time": "2022-06-20T12:00:47.492247Z"
    }
   },
   "outputs": [
    {
     "name": "stdout",
     "output_type": "stream",
     "text": [
      "1\n"
     ]
    }
   ],
   "source": [
    "print(b[0])"
   ]
  },
  {
   "cell_type": "code",
   "execution_count": 14,
   "id": "1fdb5e06",
   "metadata": {
    "ExecuteTime": {
     "end_time": "2022-06-20T12:00:57.957781Z",
     "start_time": "2022-06-20T12:00:57.588896Z"
    }
   },
   "outputs": [
    {
     "ename": "TypeError",
     "evalue": "'tuple' object does not support item assignment",
     "output_type": "error",
     "traceback": [
      "\u001b[1;31m---------------------------------------------------------------------------\u001b[0m",
      "\u001b[1;31mTypeError\u001b[0m                                 Traceback (most recent call last)",
      "\u001b[1;32m~\\AppData\\Local\\Temp/ipykernel_17436/82274539.py\u001b[0m in \u001b[0;36m<module>\u001b[1;34m\u001b[0m\n\u001b[1;32m----> 1\u001b[1;33m \u001b[0mb\u001b[0m\u001b[1;33m[\u001b[0m\u001b[1;36m0\u001b[0m\u001b[1;33m]\u001b[0m\u001b[1;33m=\u001b[0m\u001b[1;36m7\u001b[0m\u001b[1;33m\u001b[0m\u001b[1;33m\u001b[0m\u001b[0m\n\u001b[0m",
      "\u001b[1;31mTypeError\u001b[0m: 'tuple' object does not support item assignment"
     ]
    }
   ],
   "source": [
    "# tuple은 원소값 바꾸는게 불가함\n",
    "\n",
    "b[0]=7"
   ]
  },
  {
   "cell_type": "code",
   "execution_count": 17,
   "id": "fcf357cb",
   "metadata": {
    "ExecuteTime": {
     "end_time": "2022-06-20T12:02:06.954913Z",
     "start_time": "2022-06-20T12:02:06.940920Z"
    }
   },
   "outputs": [
    {
     "name": "stdout",
     "output_type": "stream",
     "text": [
      "[7, 2, 3, 4, 5]\n",
      "7\n"
     ]
    }
   ],
   "source": [
    "# list 형태로 1 ~ 5까지 출력\n",
    "# list는 원소값 변경 가능\n",
    "\n",
    "c=list(range(1,6))\n",
    "c[0]=7\n",
    "print(c)\n",
    "print(c[0])"
   ]
  },
  {
   "cell_type": "code",
   "execution_count": 20,
   "id": "f94ac4e1",
   "metadata": {
    "ExecuteTime": {
     "end_time": "2022-06-20T12:04:42.951766Z",
     "start_time": "2022-06-20T12:04:42.943771Z"
    }
   },
   "outputs": [
    {
     "name": "stdout",
     "output_type": "stream",
     "text": [
      "0 23\n",
      "1 12\n",
      "2 36\n",
      "3 53\n",
      "4 19\n",
      "\n"
     ]
    }
   ],
   "source": [
    "for x in enumerate(a):\n",
    "    print(x[0], x[1])\n",
    "print()    "
   ]
  },
  {
   "cell_type": "code",
   "execution_count": 22,
   "id": "e1308191",
   "metadata": {
    "ExecuteTime": {
     "end_time": "2022-06-20T12:05:19.807574Z",
     "start_time": "2022-06-20T12:05:19.798594Z"
    }
   },
   "outputs": [
    {
     "name": "stdout",
     "output_type": "stream",
     "text": [
      "0 23\n",
      "1 12\n",
      "2 36\n",
      "3 53\n",
      "4 19\n",
      "\n"
     ]
    }
   ],
   "source": [
    "for index, value in enumerate(a):\n",
    "    print(index, value)\n",
    "print()    "
   ]
  },
  {
   "cell_type": "code",
   "execution_count": 26,
   "id": "6e67e627",
   "metadata": {
    "ExecuteTime": {
     "end_time": "2022-06-20T12:10:26.969124Z",
     "start_time": "2022-06-20T12:10:26.959116Z"
    }
   },
   "outputs": [
    {
     "name": "stdout",
     "output_type": "stream",
     "text": [
      "True\n"
     ]
    }
   ],
   "source": [
    "# 5개 원소를 비교하면서 5번 for문이 돌게됨\n",
    "# 모든 원소가 제약에 부합이 되니 True, Yes\n",
    "\n",
    "if all(60>x for x in a):\n",
    "    print(\"True\")\n",
    "else:\n",
    "    print(\"False\")"
   ]
  },
  {
   "cell_type": "code",
   "execution_count": 27,
   "id": "6fa2532d",
   "metadata": {
    "ExecuteTime": {
     "end_time": "2022-06-20T12:10:36.640087Z",
     "start_time": "2022-06-20T12:10:36.621098Z"
    }
   },
   "outputs": [
    {
     "name": "stdout",
     "output_type": "stream",
     "text": [
      "False\n"
     ]
    }
   ],
   "source": [
    "# 5개 원소를 비교하면서 5번 for문이 돌게됨\n",
    "# 하나 (53)이 부합, 거짓이라 False,No 출력\n",
    "\n",
    "if all(50>x for x in a):\n",
    "    print(\"True\")\n",
    "else:\n",
    "    print(\"False\")"
   ]
  },
  {
   "cell_type": "code",
   "execution_count": 25,
   "id": "0af5cca5",
   "metadata": {
    "ExecuteTime": {
     "end_time": "2022-06-20T12:10:08.933094Z",
     "start_time": "2022-06-20T12:10:08.918090Z"
    }
   },
   "outputs": [
    {
     "name": "stdout",
     "output_type": "stream",
     "text": [
      "True\n"
     ]
    }
   ],
   "source": [
    "# 5개 원소를 비교하면서 5번 for문이 돌게됨\n",
    "# 하나 (53)이 부합, 거짓이라 False,No 출력\n",
    "\n",
    "if any(15>x for x in a):\n",
    "    print(\"True\")\n",
    "else:\n",
    "    print(\"False\")"
   ]
  },
  {
   "cell_type": "code",
   "execution_count": 28,
   "id": "509bcd3e",
   "metadata": {
    "ExecuteTime": {
     "end_time": "2022-06-20T12:10:51.522694Z",
     "start_time": "2022-06-20T12:10:51.510690Z"
    }
   },
   "outputs": [
    {
     "name": "stdout",
     "output_type": "stream",
     "text": [
      "False\n"
     ]
    }
   ],
   "source": [
    "# 5개 원소를 비교하면서 5번 for문이 돌게됨\n",
    "# 하나도 True에 부합을 못하니 False 출력\n",
    "\n",
    "if any(11>x for x in a):\n",
    "    print(\"True\")\n",
    "else:\n",
    "    print(\"False\")"
   ]
  },
  {
   "cell_type": "code",
   "execution_count": null,
   "id": "ba1adc4d",
   "metadata": {},
   "outputs": [],
   "source": []
  }
 ],
 "metadata": {
  "kernelspec": {
   "display_name": "Python 3 (ipykernel)",
   "language": "python",
   "name": "python3"
  },
  "language_info": {
   "codemirror_mode": {
    "name": "ipython",
    "version": 3
   },
   "file_extension": ".py",
   "mimetype": "text/x-python",
   "name": "python",
   "nbconvert_exporter": "python",
   "pygments_lexer": "ipython3",
   "version": "3.8.12"
  },
  "latex_envs": {
   "LaTeX_envs_menu_present": true,
   "autoclose": false,
   "autocomplete": true,
   "bibliofile": "biblio.bib",
   "cite_by": "apalike",
   "current_citInitial": 1,
   "eqLabelWithNumbers": true,
   "eqNumInitial": 1,
   "hotkeys": {
    "equation": "Ctrl-E",
    "itemize": "Ctrl-I"
   },
   "labels_anchors": false,
   "latex_user_defs": false,
   "report_style_numbering": false,
   "user_envs_cfg": false
  },
  "varInspector": {
   "cols": {
    "lenName": 16,
    "lenType": 16,
    "lenVar": 40
   },
   "kernels_config": {
    "python": {
     "delete_cmd_postfix": "",
     "delete_cmd_prefix": "del ",
     "library": "var_list.py",
     "varRefreshCmd": "print(var_dic_list())"
    },
    "r": {
     "delete_cmd_postfix": ") ",
     "delete_cmd_prefix": "rm(",
     "library": "var_list.r",
     "varRefreshCmd": "cat(var_dic_list()) "
    }
   },
   "types_to_exclude": [
    "module",
    "function",
    "builtin_function_or_method",
    "instance",
    "_Feature"
   ],
   "window_display": false
  }
 },
 "nbformat": 4,
 "nbformat_minor": 5
}
