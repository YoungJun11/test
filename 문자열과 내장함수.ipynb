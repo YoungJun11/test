{
 "cells": [
  {
   "cell_type": "code",
   "execution_count": null,
   "id": "d5da2490",
   "metadata": {},
   "outputs": [],
   "source": []
  },
  {
   "cell_type": "code",
   "execution_count": null,
   "id": "6d9d7876",
   "metadata": {},
   "outputs": [],
   "source": []
  },
  {
   "cell_type": "code",
   "execution_count": 1,
   "id": "b718545e",
   "metadata": {
    "ExecuteTime": {
     "end_time": "2022-06-20T05:03:52.670571Z",
     "start_time": "2022-06-20T05:03:52.660576Z"
    }
   },
   "outputs": [],
   "source": [
    "msg=\"It is Time\""
   ]
  },
  {
   "cell_type": "code",
   "execution_count": 4,
   "id": "1a590998",
   "metadata": {
    "ExecuteTime": {
     "end_time": "2022-06-20T05:04:38.483378Z",
     "start_time": "2022-06-20T05:04:38.474384Z"
    }
   },
   "outputs": [
    {
     "name": "stdout",
     "output_type": "stream",
     "text": [
      "IT IS TIME\n",
      "it is time\n",
      "It is Time\n"
     ]
    }
   ],
   "source": [
    "# 문자 모두 대문자 or 소문자로 출력\n",
    "\n",
    "print(msg.upper())\n",
    "print(msg.lower())\n",
    "print(msg)"
   ]
  },
  {
   "cell_type": "code",
   "execution_count": 7,
   "id": "0e302861",
   "metadata": {
    "ExecuteTime": {
     "end_time": "2022-06-20T05:05:33.718310Z",
     "start_time": "2022-06-20T05:05:33.704318Z"
    }
   },
   "outputs": [
    {
     "name": "stdout",
     "output_type": "stream",
     "text": [
      "IT IS TIME\n",
      "1\n",
      "2\n"
     ]
    }
   ],
   "source": [
    "tmp=msg.upper()\n",
    "print(tmp)\n",
    "print(tmp.find('T'))\n",
    "print(tmp.count('T'))"
   ]
  },
  {
   "cell_type": "code",
   "execution_count": 10,
   "id": "21f816a0",
   "metadata": {
    "ExecuteTime": {
     "end_time": "2022-06-20T05:06:22.476377Z",
     "start_time": "2022-06-20T05:06:22.467381Z"
    }
   },
   "outputs": [
    {
     "name": "stdout",
     "output_type": "stream",
     "text": [
      "It is Time\n",
      "It\n",
      "is\n",
      "10\n"
     ]
    }
   ],
   "source": [
    "print(msg)\n",
    "print(msg[:2])\n",
    "print(msg[3:5])\n",
    "print(len(msg))"
   ]
  },
  {
   "cell_type": "code",
   "execution_count": 11,
   "id": "4dee88cb",
   "metadata": {
    "ExecuteTime": {
     "end_time": "2022-06-20T05:08:56.782047Z",
     "start_time": "2022-06-20T05:08:56.777035Z"
    }
   },
   "outputs": [
    {
     "name": "stdout",
     "output_type": "stream",
     "text": [
      "I t   i s   T i m e "
     ]
    }
   ],
   "source": [
    "# 문자 하나하나 다 접근하여 중간에 공백을 만들어줌\n",
    "\n",
    "for i in range(len(msg)):\n",
    "    print(msg[i], end=' ')"
   ]
  },
  {
   "cell_type": "code",
   "execution_count": null,
   "id": "3b4cf6c5",
   "metadata": {},
   "outputs": [],
   "source": []
  },
  {
   "cell_type": "code",
   "execution_count": 13,
   "id": "e847a7a8",
   "metadata": {
    "ExecuteTime": {
     "end_time": "2022-06-20T05:28:23.254470Z",
     "start_time": "2022-06-20T05:28:23.236465Z"
    }
   },
   "outputs": [
    {
     "name": "stdout",
     "output_type": "stream",
     "text": [
      "I t   i s   T i m e \n"
     ]
    }
   ],
   "source": [
    "# Simplified version\n",
    "\n",
    "for x in msg:\n",
    "    print(x, end= ' ')\n",
    "print()    "
   ]
  },
  {
   "cell_type": "code",
   "execution_count": null,
   "id": "ecccca59",
   "metadata": {},
   "outputs": [],
   "source": []
  },
  {
   "cell_type": "code",
   "execution_count": 15,
   "id": "e81a4879",
   "metadata": {
    "ExecuteTime": {
     "end_time": "2022-06-20T05:30:47.224957Z",
     "start_time": "2022-06-20T05:30:47.219970Z"
    }
   },
   "outputs": [
    {
     "name": "stdout",
     "output_type": "stream",
     "text": [
      "I T \n"
     ]
    }
   ],
   "source": [
    "for x in msg:\n",
    "    if x.isupper():\n",
    "        print(x, end=' ')\n",
    "print()        "
   ]
  },
  {
   "cell_type": "code",
   "execution_count": 16,
   "id": "9e9af25e",
   "metadata": {
    "ExecuteTime": {
     "end_time": "2022-06-20T05:30:59.844488Z",
     "start_time": "2022-06-20T05:30:59.827498Z"
    }
   },
   "outputs": [
    {
     "name": "stdout",
     "output_type": "stream",
     "text": [
      "t i s i m e \n"
     ]
    }
   ],
   "source": [
    "for x in msg:\n",
    "    if x.islower():\n",
    "        print(x, end=' ')\n",
    "print()        "
   ]
  },
  {
   "cell_type": "code",
   "execution_count": 17,
   "id": "1640c94a",
   "metadata": {
    "ExecuteTime": {
     "end_time": "2022-06-20T05:31:42.245080Z",
     "start_time": "2022-06-20T05:31:42.228103Z"
    }
   },
   "outputs": [
    {
     "name": "stdout",
     "output_type": "stream",
     "text": [
      "ItisTime\n"
     ]
    }
   ],
   "source": [
    "# 공백없이 isalpha로 알파벳만 출력.\n",
    "\n",
    "for x in msg:\n",
    "    if x.isalpha():\n",
    "        print(x, end='')\n",
    "print()        "
   ]
  },
  {
   "cell_type": "code",
   "execution_count": 18,
   "id": "ae563a91",
   "metadata": {
    "ExecuteTime": {
     "end_time": "2022-06-20T05:33:00.025121Z",
     "start_time": "2022-06-20T05:33:00.020123Z"
    }
   },
   "outputs": [
    {
     "name": "stdout",
     "output_type": "stream",
     "text": [
      "65\n",
      "90\n"
     ]
    }
   ],
   "source": [
    "# ord로 ASCII number 출력\n",
    "# A = 65\n",
    "# Z = 90\n",
    "\n",
    "tmp='AZ'\n",
    "for x in tmp:\n",
    "    print(ord(x))"
   ]
  },
  {
   "cell_type": "code",
   "execution_count": 19,
   "id": "1a3f27d3",
   "metadata": {
    "ExecuteTime": {
     "end_time": "2022-06-20T05:33:54.242962Z",
     "start_time": "2022-06-20T05:33:54.236978Z"
    }
   },
   "outputs": [
    {
     "name": "stdout",
     "output_type": "stream",
     "text": [
      "97\n",
      "122\n"
     ]
    }
   ],
   "source": [
    "# ord로 ASCII number 출력\n",
    "# a = 97\n",
    "# z = 122\n",
    "\n",
    "tmp='az'\n",
    "for x in tmp:\n",
    "    print(ord(x))"
   ]
  },
  {
   "cell_type": "code",
   "execution_count": 21,
   "id": "8cbffb6c",
   "metadata": {
    "ExecuteTime": {
     "end_time": "2022-06-20T05:35:25.998656Z",
     "start_time": "2022-06-20T05:35:25.980652Z"
    }
   },
   "outputs": [
    {
     "name": "stdout",
     "output_type": "stream",
     "text": [
      "A\n"
     ]
    }
   ],
   "source": [
    "# ord로 ASCII number 출력\n",
    "# tmp= '65'에 대한 ASCII number 출력\n",
    "\n",
    "tmp=65\n",
    "print(chr(tmp))"
   ]
  },
  {
   "cell_type": "code",
   "execution_count": 25,
   "id": "566df2b2",
   "metadata": {
    "ExecuteTime": {
     "end_time": "2022-06-20T05:36:30.777628Z",
     "start_time": "2022-06-20T05:36:30.772640Z"
    }
   },
   "outputs": [
    {
     "name": "stdout",
     "output_type": "stream",
     "text": [
      "A B "
     ]
    }
   ],
   "source": [
    "# ord로 ASCII number 출력\n",
    "# tmp= '65'에 대한 ASCII number 출력\n",
    "\n",
    "tmp1=65\n",
    "tmp2=66\n",
    "\n",
    "for x in tmp1, tmp2:\n",
    "    print(chr(x), end=' ')"
   ]
  },
  {
   "cell_type": "code",
   "execution_count": null,
   "id": "5c4a2894",
   "metadata": {},
   "outputs": [],
   "source": []
  }
 ],
 "metadata": {
  "kernelspec": {
   "display_name": "Python 3 (ipykernel)",
   "language": "python",
   "name": "python3"
  },
  "language_info": {
   "codemirror_mode": {
    "name": "ipython",
    "version": 3
   },
   "file_extension": ".py",
   "mimetype": "text/x-python",
   "name": "python",
   "nbconvert_exporter": "python",
   "pygments_lexer": "ipython3",
   "version": "3.8.12"
  },
  "latex_envs": {
   "LaTeX_envs_menu_present": true,
   "autoclose": false,
   "autocomplete": true,
   "bibliofile": "biblio.bib",
   "cite_by": "apalike",
   "current_citInitial": 1,
   "eqLabelWithNumbers": true,
   "eqNumInitial": 1,
   "hotkeys": {
    "equation": "Ctrl-E",
    "itemize": "Ctrl-I"
   },
   "labels_anchors": false,
   "latex_user_defs": false,
   "report_style_numbering": false,
   "user_envs_cfg": false
  },
  "varInspector": {
   "cols": {
    "lenName": 16,
    "lenType": 16,
    "lenVar": 40
   },
   "kernels_config": {
    "python": {
     "delete_cmd_postfix": "",
     "delete_cmd_prefix": "del ",
     "library": "var_list.py",
     "varRefreshCmd": "print(var_dic_list())"
    },
    "r": {
     "delete_cmd_postfix": ") ",
     "delete_cmd_prefix": "rm(",
     "library": "var_list.r",
     "varRefreshCmd": "cat(var_dic_list()) "
    }
   },
   "types_to_exclude": [
    "module",
    "function",
    "builtin_function_or_method",
    "instance",
    "_Feature"
   ],
   "window_display": false
  }
 },
 "nbformat": 4,
 "nbformat_minor": 5
}
