{
 "cells": [
  {
   "cell_type": "code",
   "execution_count": null,
   "id": "c6236366",
   "metadata": {},
   "outputs": [],
   "source": []
  },
  {
   "cell_type": "code",
   "execution_count": null,
   "id": "ee742640",
   "metadata": {},
   "outputs": [],
   "source": []
  },
  {
   "cell_type": "code",
   "execution_count": 1,
   "id": "a23160fc",
   "metadata": {
    "ExecuteTime": {
     "end_time": "2022-06-20T05:03:52.670571Z",
     "start_time": "2022-06-20T05:03:52.660576Z"
    }
   },
   "outputs": [],
   "source": [
    "msg=\"It is Time\""
   ]
  },
  {
   "cell_type": "code",
   "execution_count": 4,
   "id": "f6a9ff86",
   "metadata": {
    "ExecuteTime": {
     "end_time": "2022-06-20T05:04:38.483378Z",
     "start_time": "2022-06-20T05:04:38.474384Z"
    }
   },
   "outputs": [
    {
     "name": "stdout",
     "output_type": "stream",
     "text": [
      "IT IS TIME\n",
      "it is time\n",
      "It is Time\n"
     ]
    }
   ],
   "source": [
    "# 문자 모두 대문자 or 소문자로 출력\n",
    "\n",
    "print(msg.upper())\n",
    "print(msg.lower())\n",
    "print(msg)"
   ]
  },
  {
   "cell_type": "code",
   "execution_count": 7,
   "id": "56aea1ba",
   "metadata": {
    "ExecuteTime": {
     "end_time": "2022-06-20T05:05:33.718310Z",
     "start_time": "2022-06-20T05:05:33.704318Z"
    }
   },
   "outputs": [
    {
     "name": "stdout",
     "output_type": "stream",
     "text": [
      "IT IS TIME\n",
      "1\n",
      "2\n"
     ]
    }
   ],
   "source": [
    "tmp=msg.upper()\n",
    "print(tmp)\n",
    "print(tmp.find('T'))\n",
    "print(tmp.count('T'))"
   ]
  },
  {
   "cell_type": "code",
   "execution_count": 10,
   "id": "b5791b8c",
   "metadata": {
    "ExecuteTime": {
     "end_time": "2022-06-20T05:06:22.476377Z",
     "start_time": "2022-06-20T05:06:22.467381Z"
    }
   },
   "outputs": [
    {
     "name": "stdout",
     "output_type": "stream",
     "text": [
      "It is Time\n",
      "It\n",
      "is\n",
      "10\n"
     ]
    }
   ],
   "source": [
    "print(msg)\n",
    "print(msg[:2])\n",
    "print(msg[3:5])\n",
    "print(len(msg))"
   ]
  },
  {
   "cell_type": "code",
   "execution_count": 11,
   "id": "36c7760e",
   "metadata": {
    "ExecuteTime": {
     "end_time": "2022-06-20T05:08:56.782047Z",
     "start_time": "2022-06-20T05:08:56.777035Z"
    }
   },
   "outputs": [
    {
     "name": "stdout",
     "output_type": "stream",
     "text": [
      "I t   i s   T i m e "
     ]
    }
   ],
   "source": [
    "# 문자 하나하나 다 접근하여 중간에 공백을 만들어줌\n",
    "\n",
    "for i in range(len(msg)):\n",
    "    print(msg[i], end=' ')"
   ]
  },
  {
   "cell_type": "code",
   "execution_count": null,
   "id": "fb229555",
   "metadata": {},
   "outputs": [],
   "source": []
  },
  {
   "cell_type": "code",
   "execution_count": null,
   "id": "b9a542c3",
   "metadata": {},
   "outputs": [],
   "source": []
  },
  {
   "cell_type": "code",
   "execution_count": null,
   "id": "2d852818",
   "metadata": {},
   "outputs": [],
   "source": []
  }
 ],
 "metadata": {
  "kernelspec": {
   "display_name": "Python 3 (ipykernel)",
   "language": "python",
   "name": "python3"
  },
  "language_info": {
   "codemirror_mode": {
    "name": "ipython",
    "version": 3
   },
   "file_extension": ".py",
   "mimetype": "text/x-python",
   "name": "python",
   "nbconvert_exporter": "python",
   "pygments_lexer": "ipython3",
   "version": "3.8.12"
  },
  "latex_envs": {
   "LaTeX_envs_menu_present": true,
   "autoclose": false,
   "autocomplete": true,
   "bibliofile": "biblio.bib",
   "cite_by": "apalike",
   "current_citInitial": 1,
   "eqLabelWithNumbers": true,
   "eqNumInitial": 1,
   "hotkeys": {
    "equation": "Ctrl-E",
    "itemize": "Ctrl-I"
   },
   "labels_anchors": false,
   "latex_user_defs": false,
   "report_style_numbering": false,
   "user_envs_cfg": false
  },
  "varInspector": {
   "cols": {
    "lenName": 16,
    "lenType": 16,
    "lenVar": 40
   },
   "kernels_config": {
    "python": {
     "delete_cmd_postfix": "",
     "delete_cmd_prefix": "del ",
     "library": "var_list.py",
     "varRefreshCmd": "print(var_dic_list())"
    },
    "r": {
     "delete_cmd_postfix": ") ",
     "delete_cmd_prefix": "rm(",
     "library": "var_list.r",
     "varRefreshCmd": "cat(var_dic_list()) "
    }
   },
   "types_to_exclude": [
    "module",
    "function",
    "builtin_function_or_method",
    "instance",
    "_Feature"
   ],
   "window_display": false
  }
 },
 "nbformat": 4,
 "nbformat_minor": 5
}
