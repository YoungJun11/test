{
 "cells": [
  {
   "cell_type": "markdown",
   "id": "428aed2a",
   "metadata": {},
   "source": [
    "## 반복문을 이용한 문제 풀이\n",
    "\n",
    "#### a) 1부터 N까지 홀수 출력하기\n",
    "#### b) 1부터 N까지 합 구하기\n",
    "#### c) N의 약수 출력하기"
   ]
  },
  {
   "cell_type": "code",
   "execution_count": 1,
   "id": "781beb97",
   "metadata": {
    "ExecuteTime": {
     "end_time": "2022-06-20T03:07:12.979900Z",
     "start_time": "2022-06-20T03:07:08.661071Z"
    }
   },
   "outputs": [
    {
     "name": "stdout",
     "output_type": "stream",
     "text": [
      "9\n",
      "1\n",
      "2\n",
      "3\n",
      "4\n",
      "5\n",
      "6\n",
      "7\n",
      "8\n",
      "9\n"
     ]
    }
   ],
   "source": [
    "# n에 숫자 할당하여 입력값으로 처리\n",
    "# input 값 = 9\n",
    "\n",
    "n = int(input())  \n",
    "for i in range(1, n+1):\n",
    "    print(i)"
   ]
  },
  {
   "cell_type": "code",
   "execution_count": 6,
   "id": "e66449db",
   "metadata": {
    "ExecuteTime": {
     "end_time": "2022-06-20T03:13:52.224609Z",
     "start_time": "2022-06-20T03:13:50.289937Z"
    }
   },
   "outputs": [
    {
     "name": "stdout",
     "output_type": "stream",
     "text": [
      "20\n",
      "12451020"
     ]
    }
   ],
   "source": [
    "\n",
    "n1 = int(input())  \n",
    "for i in range(1, n+1):\n",
    "    if n1%i==0:\n",
    "        print(i, end='')"
   ]
  },
  {
   "cell_type": "code",
   "execution_count": 8,
   "id": "a7b818c0",
   "metadata": {
    "ExecuteTime": {
     "end_time": "2022-06-20T03:15:42.732528Z",
     "start_time": "2022-06-20T03:15:39.431881Z"
    }
   },
   "outputs": [
    {
     "name": "stdout",
     "output_type": "stream",
     "text": [
      "30\n",
      "1\n",
      "2\n",
      "3\n",
      "5\n",
      "6\n",
      "10\n",
      "15\n",
      "30\n"
     ]
    }
   ],
   "source": [
    "# 30의 약수 구하기\n",
    "\n",
    "x=int(input())\n",
    "for i in range(1, x+1):\n",
    "    if x%i==0:\n",
    "        print(i)"
   ]
  },
  {
   "cell_type": "code",
   "execution_count": 9,
   "id": "d861a74c",
   "metadata": {
    "ExecuteTime": {
     "end_time": "2022-06-20T03:16:31.095161Z",
     "start_time": "2022-06-20T03:16:28.184606Z"
    }
   },
   "outputs": [
    {
     "name": "stdout",
     "output_type": "stream",
     "text": [
      "30\n",
      "1 2 3 5 6 10 15 30 "
     ]
    }
   ],
   "source": [
    "x1=int(input())\n",
    "for i in range(1, x+1):\n",
    "    if x1%i==0:\n",
    "        print(i, end=' ')"
   ]
  },
  {
   "cell_type": "code",
   "execution_count": null,
   "id": "af9f037c",
   "metadata": {},
   "outputs": [],
   "source": []
  }
 ],
 "metadata": {
  "kernelspec": {
   "display_name": "Python 3 (ipykernel)",
   "language": "python",
   "name": "python3"
  },
  "language_info": {
   "codemirror_mode": {
    "name": "ipython",
    "version": 3
   },
   "file_extension": ".py",
   "mimetype": "text/x-python",
   "name": "python",
   "nbconvert_exporter": "python",
   "pygments_lexer": "ipython3",
   "version": "3.8.12"
  },
  "latex_envs": {
   "LaTeX_envs_menu_present": true,
   "autoclose": false,
   "autocomplete": true,
   "bibliofile": "biblio.bib",
   "cite_by": "apalike",
   "current_citInitial": 1,
   "eqLabelWithNumbers": true,
   "eqNumInitial": 1,
   "hotkeys": {
    "equation": "Ctrl-E",
    "itemize": "Ctrl-I"
   },
   "labels_anchors": false,
   "latex_user_defs": false,
   "report_style_numbering": false,
   "user_envs_cfg": false
  },
  "varInspector": {
   "cols": {
    "lenName": 16,
    "lenType": 16,
    "lenVar": 40
   },
   "kernels_config": {
    "python": {
     "delete_cmd_postfix": "",
     "delete_cmd_prefix": "del ",
     "library": "var_list.py",
     "varRefreshCmd": "print(var_dic_list())"
    },
    "r": {
     "delete_cmd_postfix": ") ",
     "delete_cmd_prefix": "rm(",
     "library": "var_list.r",
     "varRefreshCmd": "cat(var_dic_list()) "
    }
   },
   "types_to_exclude": [
    "module",
    "function",
    "builtin_function_or_method",
    "instance",
    "_Feature"
   ],
   "window_display": false
  }
 },
 "nbformat": 4,
 "nbformat_minor": 5
}
