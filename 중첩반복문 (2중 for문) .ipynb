{
 "cells": [
  {
   "cell_type": "code",
   "execution_count": null,
   "id": "d21875e5",
   "metadata": {},
   "outputs": [],
   "source": []
  },
  {
   "cell_type": "code",
   "execution_count": 1,
   "id": "9de5e9f8",
   "metadata": {
    "ExecuteTime": {
     "end_time": "2022-06-20T03:28:06.313237Z",
     "start_time": "2022-06-20T03:28:06.294260Z"
    }
   },
   "outputs": [
    {
     "name": "stdout",
     "output_type": "stream",
     "text": [
      "0 1 2 3 4 0 1 2 3 4 0 1 2 3 4 0 1 2 3 4 0 1 2 3 4 "
     ]
    }
   ],
   "source": [
    "for i in range(5):\n",
    "    for j in range(5):\n",
    "        print(j, end=' ')"
   ]
  },
  {
   "cell_type": "code",
   "execution_count": 2,
   "id": "52f5e9eb",
   "metadata": {
    "ExecuteTime": {
     "end_time": "2022-06-20T03:28:09.121752Z",
     "start_time": "2022-06-20T03:28:09.106760Z"
    }
   },
   "outputs": [
    {
     "name": "stdout",
     "output_type": "stream",
     "text": [
      "0 \n",
      "1 \n",
      "2 \n",
      "3 \n",
      "4 \n",
      "0 \n",
      "1 \n",
      "2 \n",
      "3 \n",
      "4 \n",
      "0 \n",
      "1 \n",
      "2 \n",
      "3 \n",
      "4 \n",
      "0 \n",
      "1 \n",
      "2 \n",
      "3 \n",
      "4 \n",
      "0 \n",
      "1 \n",
      "2 \n",
      "3 \n",
      "4 \n"
     ]
    }
   ],
   "source": [
    "for i in range(5):\n",
    "    for j in range(5):\n",
    "        print(j, end=' ')\n",
    "        print()"
   ]
  },
  {
   "cell_type": "code",
   "execution_count": 3,
   "id": "e54f34f0",
   "metadata": {
    "ExecuteTime": {
     "end_time": "2022-06-20T03:28:19.122284Z",
     "start_time": "2022-06-20T03:28:19.106279Z"
    }
   },
   "outputs": [
    {
     "name": "stdout",
     "output_type": "stream",
     "text": [
      "0 1 2 3 4 \n",
      "0 1 2 3 4 \n",
      "0 1 2 3 4 \n",
      "0 1 2 3 4 \n",
      "0 1 2 3 4 \n"
     ]
    }
   ],
   "source": [
    "for i in range(5):\n",
    "    for j in range(5):\n",
    "        print(j, end=' ')\n",
    "    print()"
   ]
  },
  {
   "cell_type": "code",
   "execution_count": null,
   "id": "faa42cb7",
   "metadata": {},
   "outputs": [],
   "source": []
  },
  {
   "cell_type": "code",
   "execution_count": 7,
   "id": "dfe01c42",
   "metadata": {
    "ExecuteTime": {
     "end_time": "2022-06-20T03:30:44.158029Z",
     "start_time": "2022-06-20T03:30:44.148036Z"
    }
   },
   "outputs": [
    {
     "name": "stdout",
     "output_type": "stream",
     "text": [
      "i: 0 j: 0 j: 1 j: 2 j: 3 j: 4 \n",
      "i: 1 j: 0 j: 1 j: 2 j: 3 j: 4 \n",
      "i: 2 j: 0 j: 1 j: 2 j: 3 j: 4 \n",
      "i: 3 j: 0 j: 1 j: 2 j: 3 j: 4 \n",
      "i: 4 j: 0 j: 1 j: 2 j: 3 j: 4 \n"
     ]
    }
   ],
   "source": [
    "# i가 0일때 j가 5바뀌 돌아간다 (0~4)\n",
    "\n",
    "for i in range(5):\n",
    "    print('i:', i, sep=' ', end=' ')\n",
    "    for j in range(5):\n",
    "        print('j:', j, sep=' ', end=' ')\n",
    "    print()"
   ]
  },
  {
   "cell_type": "code",
   "execution_count": 6,
   "id": "f3288559",
   "metadata": {
    "ExecuteTime": {
     "end_time": "2022-06-20T03:30:18.627582Z",
     "start_time": "2022-06-20T03:30:18.610606Z"
    }
   },
   "outputs": [
    {
     "name": "stdout",
     "output_type": "stream",
     "text": [
      "i: 0 j: 0 j: 1 j: 2 j: 3 j: 4 \n",
      "i: 1 j: 0 j: 1 j: 2 j: 3 j: 4 \n",
      "i: 2 j: 0 j: 1 j: 2 j: 3 j: 4 \n",
      "i: 3 j: 0 j: 1 j: 2 j: 3 j: 4 \n",
      "i: 4 j: 0 j: 1 j: 2 j: 3 j: 4 \n",
      "i: 5 j: 0 j: 1 j: 2 j: 3 j: 4 \n",
      "i: 6 j: 0 j: 1 j: 2 j: 3 j: 4 \n",
      "i: 7 j: 0 j: 1 j: 2 j: 3 j: 4 \n",
      "i: 8 j: 0 j: 1 j: 2 j: 3 j: 4 \n",
      "i: 9 j: 0 j: 1 j: 2 j: 3 j: 4 \n"
     ]
    }
   ],
   "source": [
    "for i in range(10):\n",
    "    print('i:', i, sep=' ', end=' ')\n",
    "    for j in range(5):\n",
    "        print('j:', j, sep=' ', end=' ')\n",
    "    print()"
   ]
  },
  {
   "cell_type": "code",
   "execution_count": 9,
   "id": "c011e621",
   "metadata": {
    "ExecuteTime": {
     "end_time": "2022-06-20T03:32:01.994273Z",
     "start_time": "2022-06-20T03:32:01.988277Z"
    }
   },
   "outputs": [
    {
     "name": "stdout",
     "output_type": "stream",
     "text": [
      "# # # # # \n",
      "# # # # # \n",
      "# # # # # \n",
      "# # # # # \n",
      "# # # # # \n"
     ]
    }
   ],
   "source": [
    "for i in range(5):\n",
    "    for j in range(5):\n",
    "        print('#', end=' ')\n",
    "    print()"
   ]
  },
  {
   "cell_type": "code",
   "execution_count": 10,
   "id": "7fc8ec02",
   "metadata": {
    "ExecuteTime": {
     "end_time": "2022-06-20T03:32:49.827356Z",
     "start_time": "2022-06-20T03:32:49.820344Z"
    }
   },
   "outputs": [
    {
     "name": "stdout",
     "output_type": "stream",
     "text": [
      "# \n",
      "# # \n",
      "# # # \n",
      "# # # # \n",
      "# # # # # \n"
     ]
    }
   ],
   "source": [
    "for i in range(5):\n",
    "    for j in range(i+1):\n",
    "        print('#', end=' ')\n",
    "    print()"
   ]
  },
  {
   "cell_type": "code",
   "execution_count": 12,
   "id": "d7534ae5",
   "metadata": {
    "ExecuteTime": {
     "end_time": "2022-06-20T03:33:52.209074Z",
     "start_time": "2022-06-20T03:33:52.196080Z"
    }
   },
   "outputs": [
    {
     "name": "stdout",
     "output_type": "stream",
     "text": [
      "* * * * * \n",
      "* * * * \n",
      "* * * \n",
      "* * \n",
      "* \n"
     ]
    }
   ],
   "source": [
    "# for i in range(5)= 0~4 \n",
    "\n",
    "# 5-0\n",
    "# 5-1\n",
    "# 5-2\n",
    "\n",
    "for i in range(5):\n",
    "    for j in range(5-i):\n",
    "        print('*', end=' ')\n",
    "    print()"
   ]
  },
  {
   "cell_type": "code",
   "execution_count": null,
   "id": "7e728ad4",
   "metadata": {},
   "outputs": [],
   "source": []
  }
 ],
 "metadata": {
  "kernelspec": {
   "display_name": "Python 3 (ipykernel)",
   "language": "python",
   "name": "python3"
  },
  "language_info": {
   "codemirror_mode": {
    "name": "ipython",
    "version": 3
   },
   "file_extension": ".py",
   "mimetype": "text/x-python",
   "name": "python",
   "nbconvert_exporter": "python",
   "pygments_lexer": "ipython3",
   "version": "3.8.12"
  },
  "latex_envs": {
   "LaTeX_envs_menu_present": true,
   "autoclose": false,
   "autocomplete": true,
   "bibliofile": "biblio.bib",
   "cite_by": "apalike",
   "current_citInitial": 1,
   "eqLabelWithNumbers": true,
   "eqNumInitial": 1,
   "hotkeys": {
    "equation": "Ctrl-E",
    "itemize": "Ctrl-I"
   },
   "labels_anchors": false,
   "latex_user_defs": false,
   "report_style_numbering": false,
   "user_envs_cfg": false
  },
  "varInspector": {
   "cols": {
    "lenName": 16,
    "lenType": 16,
    "lenVar": 40
   },
   "kernels_config": {
    "python": {
     "delete_cmd_postfix": "",
     "delete_cmd_prefix": "del ",
     "library": "var_list.py",
     "varRefreshCmd": "print(var_dic_list())"
    },
    "r": {
     "delete_cmd_postfix": ") ",
     "delete_cmd_prefix": "rm(",
     "library": "var_list.r",
     "varRefreshCmd": "cat(var_dic_list()) "
    }
   },
   "types_to_exclude": [
    "module",
    "function",
    "builtin_function_or_method",
    "instance",
    "_Feature"
   ],
   "window_display": false
  }
 },
 "nbformat": 4,
 "nbformat_minor": 5
}
